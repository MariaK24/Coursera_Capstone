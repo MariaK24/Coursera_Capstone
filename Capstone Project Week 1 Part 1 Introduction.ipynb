{
 "cells": [
  {
   "cell_type": "markdown",
   "metadata": {},
   "source": [
    "# Capstone Project: The Battle of Neighborhoods Week1 |Part 1 Introduction\n",
    "\n",
    "## {Picking the right location for a new vegan restaurant in New York}\n",
    "\n",
    "\t\n",
    "### 1. Introduction \n",
    "\n",
    "The IBM Data Science Professional certificate course on Coursera concludes with a Capstone Project. The project is about using data science toolset on a real-life case and demonstrating the creation of value by applying the learned data analysis skills. This report presents the capstone project. The analysis was performed in Python.\n",
    "\n",
    "\n",
    "### 2. Description & Discussion of the Background \n",
    "\n",
    "a. The Problem \n",
    "\n",
    "Every successful enterprise is the result of an inspiration, continuous hard work, great determination, and aspirations. One must have a strong desire to take an idea from its generation to implementation.  Idea generation is certainly a crucial process for businesses seeking to succeed and gain competitive advantage, but collecting invaluable insights to well define this process in order to implement the generated ideas and put them into action is a necessity. For this project, we chose a hypothetical business scenario about a prospective business owner, who is a passionate supporter of veganism and he has decided to invest in a vegan gourmet restaurant in New York, US. Taking into consideration the price level at which the restaurant will operate, his main intent is to find an optimal location in an area of Manhattan, where gastronomy is booming and which is easily accessible for tourists and for wealthier local citizens as well.\n",
    "\n",
    "b. Assumptions and business logic\n",
    "\n",
    "The assumption behind the analysis is that we can use unsupervised machine learning to create clusters of districts that will provide us with a list of areas for consideration for the restaurant. The intent is to find an optimal location in an area, where gastronomy is booming and which is easily accessible for tourists and for wealthier local citizens as well. The prospective owner will obtain the desired data per every neighborhood regarding: which cuisine based restaurants are the least in number per neighborhood, if the area of his choice is lacking of a vegan gourmet restaurant, which type of restaurants are prevalent in a particular area and in the adjoining neighborhoods and so on. The analysis is going to provide him all the essential data to make an informed decision and boost his chance of success.\n",
    "\n",
    "c. Audience \n",
    "\n",
    "In our project we are assuming a prospective business owner to whom we are addressing this report, however this analysis could be useful for a group of market investors such as restaurant owners.\n",
    "\n"
   ]
  },
  {
   "cell_type": "code",
   "execution_count": null,
   "metadata": {},
   "outputs": [],
   "source": []
  }
 ],
 "metadata": {
  "kernelspec": {
   "display_name": "Python",
   "language": "python",
   "name": "conda-env-python-py"
  },
  "language_info": {
   "codemirror_mode": {
    "name": "ipython",
    "version": 3
   },
   "file_extension": ".py",
   "mimetype": "text/x-python",
   "name": "python",
   "nbconvert_exporter": "python",
   "pygments_lexer": "ipython3",
   "version": "3.6.12"
  }
 },
 "nbformat": 4,
 "nbformat_minor": 4
}
